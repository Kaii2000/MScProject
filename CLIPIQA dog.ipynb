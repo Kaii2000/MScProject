{
 "cells": [
  {
   "cell_type": "code",
   "execution_count": 2,
   "metadata": {},
   "outputs": [],
   "source": [
    "import torch\n",
    "import piq\n",
    "import torchmetrics\n",
    "from skimage.io import imread\n",
    "from torchmetrics.multimodal.clip_iqa import CLIPImageQualityAssessment\n",
    "import numpy as np\n",
    "from PIL import Image\n",
    "from datasets import load_dataset\n",
    "import matplotlib.pyplot as plt\n",
    "import matplotlib.image as mpimg\n",
    "import torch.nn.functional as F\n",
    "import torch\n",
    "import torchvision.transforms as transforms\n",
    "from torchvision import models"
   ]
  },
  {
   "cell_type": "code",
   "execution_count": 12,
   "metadata": {},
   "outputs": [],
   "source": [
    "#Convert Images into Tensors\n",
    "\n",
    "#Real Images Xs\n",
    "x1 = torch.tensor(imread('/Users/kaii2000/Desktop/dog/husky_inpaint1.png')).permute(2, 0, 1)[None, ...] / 255.\n",
    "x2 = torch.tensor(imread('/Users/kaii2000/Desktop/dog/husky_inpaint2.png')).permute(2, 0, 1)[None, ...] / 255.\n",
    "x3 = torch.tensor(imread('/Users/kaii2000/Desktop/dog/corgi_inpaint1.png')).permute(2, 0, 1)[None, ...] / 255.\n",
    "x4 = torch.tensor(imread('/Users/kaii2000/Desktop/dog/labrador_inpaint1.png')).permute(2, 0, 1)[None, ...] / 255.\n",
    "\n",
    "y1 = torch.tensor(imread('/Users/kaii2000/Desktop/dog/husky_refined1.png')).permute(2, 0, 1)[None, ...] / 255.\n",
    "y2 = torch.tensor(imread('/Users/kaii2000/Desktop/dog/husky_refined2.png')).permute(2, 0, 1)[None, ...] / 255.\n",
    "y3 = torch.tensor(imread('/Users/kaii2000/Desktop/dog/corgi_refined1.png')).permute(2, 0, 1)[None, ...] / 255.\n",
    "y4 = torch.tensor(imread('/Users/kaii2000/Desktop/dog/labrador_refined1.png')).permute(2, 0, 1)[None, ...] / 255.\n"
   ]
  },
  {
   "cell_type": "code",
   "execution_count": 53,
   "metadata": {},
   "outputs": [],
   "source": [
    "#CLIP IQA Metrics\n",
    "CLIPIQA = CLIPImageQualityAssessment(prompts=(\"quality\", (\"real photo\", \"fake photo\"), \"natural\", 'relaxing', 'sharpness'))"
   ]
  },
  {
   "cell_type": "code",
   "execution_count": 54,
   "metadata": {},
   "outputs": [],
   "source": [
    "x1 = x1[:,:3,:,:]\n",
    "x2=x2[:,:3,:,:]\n",
    "x3=x3[:,:3,:,:]\n",
    "x4=x4[:,:3,:,:]"
   ]
  },
  {
   "cell_type": "code",
   "execution_count": 55,
   "metadata": {},
   "outputs": [],
   "source": [
    "y1 =y1[:,:3,:,:]\n",
    "y2 = y2[:,:3,:,:]\n",
    "y3 =y3[:,:3,:,:]\n",
    "y4 =y4[:,:3,:,:]\n"
   ]
  },
  {
   "cell_type": "code",
   "execution_count": 56,
   "metadata": {},
   "outputs": [
    {
     "data": {
      "text/plain": [
       "{'quality': tensor(0.9738),\n",
       " 'user_defined_0': tensor(0.2833),\n",
       " 'natural': tensor(0.9265),\n",
       " 'relaxing': tensor(0.8309),\n",
       " 'sharpness': tensor(0.9978)}"
      ]
     },
     "execution_count": 56,
     "metadata": {},
     "output_type": "execute_result"
    }
   ],
   "source": [
    "CLIPIQA(x1)"
   ]
  },
  {
   "cell_type": "code",
   "execution_count": 57,
   "metadata": {},
   "outputs": [
    {
     "data": {
      "text/plain": [
       "{'quality': tensor(0.8079),\n",
       " 'user_defined_0': tensor(0.2896),\n",
       " 'natural': tensor(0.7836),\n",
       " 'relaxing': tensor(0.0716),\n",
       " 'sharpness': tensor(0.9454)}"
      ]
     },
     "execution_count": 57,
     "metadata": {},
     "output_type": "execute_result"
    }
   ],
   "source": [
    "CLIPIQA(y1)"
   ]
  },
  {
   "cell_type": "code",
   "execution_count": 58,
   "metadata": {},
   "outputs": [
    {
     "data": {
      "text/plain": [
       "{'quality': tensor(0.9661),\n",
       " 'user_defined_0': tensor(0.2921),\n",
       " 'natural': tensor(0.9077),\n",
       " 'relaxing': tensor(0.8224),\n",
       " 'sharpness': tensor(0.9953)}"
      ]
     },
     "execution_count": 58,
     "metadata": {},
     "output_type": "execute_result"
    }
   ],
   "source": [
    "CLIPIQA(x2)"
   ]
  },
  {
   "cell_type": "code",
   "execution_count": 59,
   "metadata": {},
   "outputs": [
    {
     "data": {
      "text/plain": [
       "{'quality': tensor(0.8501),\n",
       " 'user_defined_0': tensor(0.3077),\n",
       " 'natural': tensor(0.7504),\n",
       " 'relaxing': tensor(0.1371),\n",
       " 'sharpness': tensor(0.9724)}"
      ]
     },
     "execution_count": 59,
     "metadata": {},
     "output_type": "execute_result"
    }
   ],
   "source": [
    "CLIPIQA(y2)"
   ]
  },
  {
   "cell_type": "code",
   "execution_count": 60,
   "metadata": {},
   "outputs": [
    {
     "data": {
      "text/plain": [
       "{'quality': tensor(0.9786),\n",
       " 'user_defined_0': tensor(0.3176),\n",
       " 'natural': tensor(0.9696),\n",
       " 'relaxing': tensor(0.6781),\n",
       " 'sharpness': tensor(0.9844)}"
      ]
     },
     "execution_count": 60,
     "metadata": {},
     "output_type": "execute_result"
    }
   ],
   "source": [
    "CLIPIQA(x3)"
   ]
  },
  {
   "cell_type": "code",
   "execution_count": 61,
   "metadata": {},
   "outputs": [
    {
     "data": {
      "text/plain": [
       "{'quality': tensor(0.8640),\n",
       " 'user_defined_0': tensor(0.3383),\n",
       " 'natural': tensor(0.8538),\n",
       " 'relaxing': tensor(0.1071),\n",
       " 'sharpness': tensor(0.8796)}"
      ]
     },
     "execution_count": 61,
     "metadata": {},
     "output_type": "execute_result"
    }
   ],
   "source": [
    "CLIPIQA(y3)"
   ]
  },
  {
   "cell_type": "code",
   "execution_count": 62,
   "metadata": {},
   "outputs": [],
   "source": [
    "original = torch.tensor(imread('/Users/kaii2000/Desktop/dog/dog_original.jpg')).permute(2, 0, 1)[None, ...] / 255."
   ]
  },
  {
   "cell_type": "code",
   "execution_count": 63,
   "metadata": {},
   "outputs": [],
   "source": [
    "z1 =original[:,:3,:,:]"
   ]
  },
  {
   "cell_type": "code",
   "execution_count": 64,
   "metadata": {},
   "outputs": [
    {
     "data": {
      "text/plain": [
       "{'quality': tensor(0.9452),\n",
       " 'user_defined_0': tensor(0.2418),\n",
       " 'natural': tensor(0.9634),\n",
       " 'relaxing': tensor(0.3827),\n",
       " 'sharpness': tensor(0.9974)}"
      ]
     },
     "execution_count": 64,
     "metadata": {},
     "output_type": "execute_result"
    }
   ],
   "source": [
    "CLIPIQA(z1)"
   ]
  }
 ],
 "metadata": {
  "kernelspec": {
   "display_name": "base",
   "language": "python",
   "name": "python3"
  },
  "language_info": {
   "codemirror_mode": {
    "name": "ipython",
    "version": 3
   },
   "file_extension": ".py",
   "mimetype": "text/x-python",
   "name": "python",
   "nbconvert_exporter": "python",
   "pygments_lexer": "ipython3",
   "version": "3.11.7"
  }
 },
 "nbformat": 4,
 "nbformat_minor": 2
}
